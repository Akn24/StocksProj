{
  "nbformat": 4,
  "nbformat_minor": 0,
  "metadata": {
    "kernelspec": {
      "display_name": "Python 3",
      "language": "python",
      "name": "python3"
    },
    "language_info": {
      "codemirror_mode": {
        "name": "ipython",
        "version": 3
      },
      "file_extension": ".py",
      "mimetype": "text/x-python",
      "name": "python",
      "nbconvert_exporter": "python",
      "pygments_lexer": "ipython3",
      "version": "3.6.8"
    },
    "colab": {
      "name": "StockPredictor.ipynb",
      "provenance": [],
      "collapsed_sections": []
    }
  },
  "cells": [
    {
      "cell_type": "markdown",
      "metadata": {
        "id": "cHCf51oVShnG",
        "colab_type": "text"
      },
      "source": [
        "Mounting the Gdrive\n"
      ]
    },
    {
      "cell_type": "code",
      "metadata": {
        "id": "g6qj5pZemaTH",
        "colab_type": "code",
        "outputId": "19da19e5-7fa1-46ec-e877-5a2b8ba707e1",
        "colab": {
          "base_uri": "https://localhost:8080/",
          "height": 34
        }
      },
      "source": [
        "# from google.colab import files\n",
        "# uploaded = files.upload()\n",
        "# import pandas as pd\n",
        "# import io\n",
        "# data = pd.read_csv(io.StringIO(uploaded['dataset.txt'].decode('utf-8')))\n",
        "from google.colab import drive\n",
        "drive.mount('/content/gdrive')"
      ],
      "execution_count": 0,
      "outputs": [
        {
          "output_type": "stream",
          "text": [
            "Drive already mounted at /content/gdrive; to attempt to forcibly remount, call drive.mount(\"/content/gdrive\", force_remount=True).\n"
          ],
          "name": "stdout"
        }
      ]
    },
    {
      "cell_type": "markdown",
      "metadata": {
        "id": "r5091ZFDSleF",
        "colab_type": "text"
      },
      "source": [
        "Random Forest\n"
      ]
    },
    {
      "cell_type": "code",
      "metadata": {
        "id": "5pARjorlxxUA",
        "colab_type": "code",
        "outputId": "84bde88a-64fe-4282-da91-f2ba75db3515",
        "colab": {
          "base_uri": "https://localhost:8080/",
          "height": 34
        }
      },
      "source": [
        "import pandas as pd\n",
        "import matplotlib.pyplot as plt\n",
        "import numpy as np\n",
        "data = pd.read_csv('/content/gdrive/My Drive/Colab Notebooks/StocksProj/aapl.us.txt')\n",
        "data['Date'] = pd.to_datetime(data['Date'])\n",
        "data = data.set_index('Date')\n",
        "print(data.index.min(), data.index.max())\n",
        "data.head()\n",
        "testitout = pd.DataFrame([[173.70,170.78,173.14,25131300,0]])          #Insert HERE the DATA\n",
        "# from sklearn.preprocessing import StandardScaler\n",
        "# std = StandardScaler()\n",
        "# data = std.fit_transform(data)\n",
        "# testitout = std.fit_transform(testitout)"
      ],
      "execution_count": 0,
      "outputs": [
        {
          "output_type": "stream",
          "text": [
            "1984-09-07 00:00:00 2017-11-10 00:00:00\n"
          ],
          "name": "stdout"
        }
      ]
    },
    {
      "cell_type": "markdown",
      "metadata": {
        "id": "YknKyM6SSoZt",
        "colab_type": "text"
      },
      "source": [
        "Training The DATA\n"
      ]
    },
    {
      "cell_type": "code",
      "metadata": {
        "id": "nKMYsarrmaTR",
        "colab_type": "code",
        "colab": {}
      },
      "source": [
        "x = data.iloc[:,1:]\n",
        "y = data.iloc[:,0]\n",
        "from sklearn.model_selection import train_test_split\n",
        "x_train,x_test,y_train,y_test = train_test_split(x,y,train_size = 0.8)"
      ],
      "execution_count": 0,
      "outputs": []
    },
    {
      "cell_type": "code",
      "metadata": {
        "id": "FBwof4K_maTX",
        "colab_type": "code",
        "colab": {}
      },
      "source": [
        "from sklearn.ensemble import RandomForestRegressor\n",
        "rand = RandomForestRegressor(max_depth=30)\n",
        "d = rand.fit(x_train,y_train)"
      ],
      "execution_count": 0,
      "outputs": []
    },
    {
      "cell_type": "code",
      "metadata": {
        "id": "0Jj5oZgD4uPw",
        "colab_type": "code",
        "outputId": "c96000e1-49e9-46ad-b939-efc54100779a",
        "colab": {
          "base_uri": "https://localhost:8080/",
          "height": 431
        }
      },
      "source": [
        "x_test"
      ],
      "execution_count": 0,
      "outputs": [
        {
          "output_type": "execute_result",
          "data": {
            "text/html": [
              "<div>\n",
              "<style scoped>\n",
              "    .dataframe tbody tr th:only-of-type {\n",
              "        vertical-align: middle;\n",
              "    }\n",
              "\n",
              "    .dataframe tbody tr th {\n",
              "        vertical-align: top;\n",
              "    }\n",
              "\n",
              "    .dataframe thead th {\n",
              "        text-align: right;\n",
              "    }\n",
              "</style>\n",
              "<table border=\"1\" class=\"dataframe\">\n",
              "  <thead>\n",
              "    <tr style=\"text-align: right;\">\n",
              "      <th></th>\n",
              "      <th>High</th>\n",
              "      <th>Low</th>\n",
              "      <th>Close</th>\n",
              "      <th>Volume</th>\n",
              "      <th>OpenInt</th>\n",
              "    </tr>\n",
              "    <tr>\n",
              "      <th>Date</th>\n",
              "      <th></th>\n",
              "      <th></th>\n",
              "      <th></th>\n",
              "      <th></th>\n",
              "      <th></th>\n",
              "    </tr>\n",
              "  </thead>\n",
              "  <tbody>\n",
              "    <tr>\n",
              "      <th>2004-07-13</th>\n",
              "      <td>1.8954</td>\n",
              "      <td>1.8582</td>\n",
              "      <td>1.8708</td>\n",
              "      <td>88175232</td>\n",
              "      <td>0</td>\n",
              "    </tr>\n",
              "    <tr>\n",
              "      <th>1998-03-04</th>\n",
              "      <td>0.7928</td>\n",
              "      <td>0.7324</td>\n",
              "      <td>0.7825</td>\n",
              "      <td>228077244</td>\n",
              "      <td>0</td>\n",
              "    </tr>\n",
              "    <tr>\n",
              "      <th>1988-08-31</th>\n",
              "      <td>1.3164</td>\n",
              "      <td>1.2653</td>\n",
              "      <td>1.2768</td>\n",
              "      <td>66286701</td>\n",
              "      <td>0</td>\n",
              "    </tr>\n",
              "    <tr>\n",
              "      <th>2013-09-11</th>\n",
              "      <td>62.3740</td>\n",
              "      <td>61.2050</td>\n",
              "      <td>61.5860</td>\n",
              "      <td>243602913</td>\n",
              "      <td>0</td>\n",
              "    </tr>\n",
              "    <tr>\n",
              "      <th>1988-07-05</th>\n",
              "      <td>1.5124</td>\n",
              "      <td>1.4764</td>\n",
              "      <td>1.5124</td>\n",
              "      <td>29129675</td>\n",
              "      <td>0</td>\n",
              "    </tr>\n",
              "    <tr>\n",
              "      <th>...</th>\n",
              "      <td>...</td>\n",
              "      <td>...</td>\n",
              "      <td>...</td>\n",
              "      <td>...</td>\n",
              "      <td>...</td>\n",
              "    </tr>\n",
              "    <tr>\n",
              "      <th>1987-06-16</th>\n",
              "      <td>1.3356</td>\n",
              "      <td>1.2154</td>\n",
              "      <td>1.3269</td>\n",
              "      <td>95578797</td>\n",
              "      <td>0</td>\n",
              "    </tr>\n",
              "    <tr>\n",
              "      <th>2016-02-22</th>\n",
              "      <td>93.7980</td>\n",
              "      <td>92.8490</td>\n",
              "      <td>93.7780</td>\n",
              "      <td>34204278</td>\n",
              "      <td>0</td>\n",
              "    </tr>\n",
              "    <tr>\n",
              "      <th>2014-07-10</th>\n",
              "      <td>89.6150</td>\n",
              "      <td>87.7090</td>\n",
              "      <td>89.1370</td>\n",
              "      <td>42298257</td>\n",
              "      <td>0</td>\n",
              "    </tr>\n",
              "    <tr>\n",
              "      <th>2004-03-16</th>\n",
              "      <td>1.7032</td>\n",
              "      <td>1.6264</td>\n",
              "      <td>1.6534</td>\n",
              "      <td>168030781</td>\n",
              "      <td>0</td>\n",
              "    </tr>\n",
              "    <tr>\n",
              "      <th>2016-04-26</th>\n",
              "      <td>101.9300</td>\n",
              "      <td>100.5800</td>\n",
              "      <td>101.0100</td>\n",
              "      <td>40792313</td>\n",
              "      <td>0</td>\n",
              "    </tr>\n",
              "  </tbody>\n",
              "</table>\n",
              "<p>1673 rows × 5 columns</p>\n",
              "</div>"
            ],
            "text/plain": [
              "                High       Low     Close     Volume  OpenInt\n",
              "Date                                                        \n",
              "2004-07-13    1.8954    1.8582    1.8708   88175232        0\n",
              "1998-03-04    0.7928    0.7324    0.7825  228077244        0\n",
              "1988-08-31    1.3164    1.2653    1.2768   66286701        0\n",
              "2013-09-11   62.3740   61.2050   61.5860  243602913        0\n",
              "1988-07-05    1.5124    1.4764    1.5124   29129675        0\n",
              "...              ...       ...       ...        ...      ...\n",
              "1987-06-16    1.3356    1.2154    1.3269   95578797        0\n",
              "2016-02-22   93.7980   92.8490   93.7780   34204278        0\n",
              "2014-07-10   89.6150   87.7090   89.1370   42298257        0\n",
              "2004-03-16    1.7032    1.6264    1.6534  168030781        0\n",
              "2016-04-26  101.9300  100.5800  101.0100   40792313        0\n",
              "\n",
              "[1673 rows x 5 columns]"
            ]
          },
          "metadata": {
            "tags": []
          },
          "execution_count": 452
        }
      ]
    },
    {
      "cell_type": "markdown",
      "metadata": {
        "id": "07QvE6gSSrhL",
        "colab_type": "text"
      },
      "source": [
        "Prediciting the output"
      ]
    },
    {
      "cell_type": "code",
      "metadata": {
        "id": "mRq8LN_wmaTf",
        "colab_type": "code",
        "outputId": "63998ea8-80cb-4912-fe70-f68ee7e973f3",
        "colab": {
          "base_uri": "https://localhost:8080/",
          "height": 34
        }
      },
      "source": [
        "pred = d.predict(testitout)\n",
        "pred"
      ],
      "execution_count": 0,
      "outputs": [
        {
          "output_type": "execute_result",
          "data": {
            "text/plain": [
              "array([172.8863])"
            ]
          },
          "metadata": {
            "tags": []
          },
          "execution_count": 453
        }
      ]
    },
    {
      "cell_type": "code",
      "metadata": {
        "id": "abHshx6AmaTr",
        "colab_type": "code",
        "outputId": "e0dfc933-d2e2-4806-ba23-dab7473e1074",
        "colab": {
          "base_uri": "https://localhost:8080/",
          "height": 431
        }
      },
      "source": [
        "data"
      ],
      "execution_count": 0,
      "outputs": [
        {
          "output_type": "execute_result",
          "data": {
            "text/html": [
              "<div>\n",
              "<style scoped>\n",
              "    .dataframe tbody tr th:only-of-type {\n",
              "        vertical-align: middle;\n",
              "    }\n",
              "\n",
              "    .dataframe tbody tr th {\n",
              "        vertical-align: top;\n",
              "    }\n",
              "\n",
              "    .dataframe thead th {\n",
              "        text-align: right;\n",
              "    }\n",
              "</style>\n",
              "<table border=\"1\" class=\"dataframe\">\n",
              "  <thead>\n",
              "    <tr style=\"text-align: right;\">\n",
              "      <th></th>\n",
              "      <th>Open</th>\n",
              "      <th>High</th>\n",
              "      <th>Low</th>\n",
              "      <th>Close</th>\n",
              "      <th>Volume</th>\n",
              "      <th>OpenInt</th>\n",
              "    </tr>\n",
              "    <tr>\n",
              "      <th>Date</th>\n",
              "      <th></th>\n",
              "      <th></th>\n",
              "      <th></th>\n",
              "      <th></th>\n",
              "      <th></th>\n",
              "      <th></th>\n",
              "    </tr>\n",
              "  </thead>\n",
              "  <tbody>\n",
              "    <tr>\n",
              "      <th>1984-09-07</th>\n",
              "      <td>0.42388</td>\n",
              "      <td>0.42902</td>\n",
              "      <td>0.41874</td>\n",
              "      <td>0.42388</td>\n",
              "      <td>23220030</td>\n",
              "      <td>0</td>\n",
              "    </tr>\n",
              "    <tr>\n",
              "      <th>1984-09-10</th>\n",
              "      <td>0.42388</td>\n",
              "      <td>0.42516</td>\n",
              "      <td>0.41366</td>\n",
              "      <td>0.42134</td>\n",
              "      <td>18022532</td>\n",
              "      <td>0</td>\n",
              "    </tr>\n",
              "    <tr>\n",
              "      <th>1984-09-11</th>\n",
              "      <td>0.42516</td>\n",
              "      <td>0.43668</td>\n",
              "      <td>0.42516</td>\n",
              "      <td>0.42902</td>\n",
              "      <td>42498199</td>\n",
              "      <td>0</td>\n",
              "    </tr>\n",
              "    <tr>\n",
              "      <th>1984-09-12</th>\n",
              "      <td>0.42902</td>\n",
              "      <td>0.43157</td>\n",
              "      <td>0.41618</td>\n",
              "      <td>0.41618</td>\n",
              "      <td>37125801</td>\n",
              "      <td>0</td>\n",
              "    </tr>\n",
              "    <tr>\n",
              "      <th>1984-09-13</th>\n",
              "      <td>0.43927</td>\n",
              "      <td>0.44052</td>\n",
              "      <td>0.43927</td>\n",
              "      <td>0.43927</td>\n",
              "      <td>57822062</td>\n",
              "      <td>0</td>\n",
              "    </tr>\n",
              "    <tr>\n",
              "      <th>...</th>\n",
              "      <td>...</td>\n",
              "      <td>...</td>\n",
              "      <td>...</td>\n",
              "      <td>...</td>\n",
              "      <td>...</td>\n",
              "      <td>...</td>\n",
              "    </tr>\n",
              "    <tr>\n",
              "      <th>2017-11-06</th>\n",
              "      <td>171.75000</td>\n",
              "      <td>174.36000</td>\n",
              "      <td>171.10000</td>\n",
              "      <td>173.63000</td>\n",
              "      <td>34901241</td>\n",
              "      <td>0</td>\n",
              "    </tr>\n",
              "    <tr>\n",
              "      <th>2017-11-07</th>\n",
              "      <td>173.29000</td>\n",
              "      <td>174.51000</td>\n",
              "      <td>173.29000</td>\n",
              "      <td>174.18000</td>\n",
              "      <td>24424877</td>\n",
              "      <td>0</td>\n",
              "    </tr>\n",
              "    <tr>\n",
              "      <th>2017-11-08</th>\n",
              "      <td>174.03000</td>\n",
              "      <td>175.61000</td>\n",
              "      <td>173.71000</td>\n",
              "      <td>175.61000</td>\n",
              "      <td>24451166</td>\n",
              "      <td>0</td>\n",
              "    </tr>\n",
              "    <tr>\n",
              "      <th>2017-11-09</th>\n",
              "      <td>174.48000</td>\n",
              "      <td>175.46000</td>\n",
              "      <td>172.52000</td>\n",
              "      <td>175.25000</td>\n",
              "      <td>29533086</td>\n",
              "      <td>0</td>\n",
              "    </tr>\n",
              "    <tr>\n",
              "      <th>2017-11-10</th>\n",
              "      <td>175.11000</td>\n",
              "      <td>175.38000</td>\n",
              "      <td>174.27000</td>\n",
              "      <td>174.67000</td>\n",
              "      <td>25130494</td>\n",
              "      <td>0</td>\n",
              "    </tr>\n",
              "  </tbody>\n",
              "</table>\n",
              "<p>8364 rows × 6 columns</p>\n",
              "</div>"
            ],
            "text/plain": [
              "                 Open       High        Low      Close    Volume  OpenInt\n",
              "Date                                                                     \n",
              "1984-09-07    0.42388    0.42902    0.41874    0.42388  23220030        0\n",
              "1984-09-10    0.42388    0.42516    0.41366    0.42134  18022532        0\n",
              "1984-09-11    0.42516    0.43668    0.42516    0.42902  42498199        0\n",
              "1984-09-12    0.42902    0.43157    0.41618    0.41618  37125801        0\n",
              "1984-09-13    0.43927    0.44052    0.43927    0.43927  57822062        0\n",
              "...               ...        ...        ...        ...       ...      ...\n",
              "2017-11-06  171.75000  174.36000  171.10000  173.63000  34901241        0\n",
              "2017-11-07  173.29000  174.51000  173.29000  174.18000  24424877        0\n",
              "2017-11-08  174.03000  175.61000  173.71000  175.61000  24451166        0\n",
              "2017-11-09  174.48000  175.46000  172.52000  175.25000  29533086        0\n",
              "2017-11-10  175.11000  175.38000  174.27000  174.67000  25130494        0\n",
              "\n",
              "[8364 rows x 6 columns]"
            ]
          },
          "metadata": {
            "tags": []
          },
          "execution_count": 454
        }
      ]
    },
    {
      "cell_type": "markdown",
      "metadata": {
        "id": "UuuU-EjKSu7C",
        "colab_type": "text"
      },
      "source": [
        "Ploting the DATA\n"
      ]
    },
    {
      "cell_type": "code",
      "metadata": {
        "id": "EDUCkNc4UVns",
        "colab_type": "code",
        "outputId": "d9e9d9a7-00c1-41e6-e193-1574b8522620",
        "colab": {
          "base_uri": "https://localhost:8080/",
          "height": 280
        }
      },
      "source": [
        "from pandas import read_csv\n",
        "from matplotlib import pyplot\n",
        "series = read_csv('/content/gdrive/My Drive/Colab Notebooks/StocksProj/aapl.us.txt', header=0, index_col=0, parse_dates=True, squeeze=True)\n",
        "series.plot()\n",
        "pyplot.show()"
      ],
      "execution_count": 0,
      "outputs": [
        {
          "output_type": "display_data",
          "data": {
            "image/png": "[encoded data removed]",
            "text/plain": [
              "<Figure size 432x288 with 1 Axes>"
            ]
          },
          "metadata": {
            "tags": [],
            "needs_background": "light"
          }
        }
      ]
    },
    {
      "cell_type": "code",
      "metadata": {
        "id": "_N6W3Uafm8gw",
        "colab_type": "code",
        "outputId": "c41ff0e0-5176-42ec-f2b1-2773e19d1307",
        "colab": {
          "base_uri": "https://localhost:8080/",
          "height": 549
        }
      },
      "source": [
        "data = pd.read_csv('/content/gdrive/My Drive/Colab Notebooks/StocksProj/aapl.us.txt')\n",
        "data['Date'] = pd.to_datetime(data['Date'])\n",
        "data = pd.DataFrame(data)\n",
        "data.set_index('Date').plot()\n",
        "data.plot(x='Date', y='Open')"
      ],
      "execution_count": 0,
      "outputs": [
        {
          "output_type": "execute_result",
          "data": {
            "text/plain": [
              "<matplotlib.axes._subplots.AxesSubplot at 0x7f16fb17cc88>"
            ]
          },
          "metadata": {
            "tags": []
          },
          "execution_count": 456
        },
        {
          "output_type": "display_data",
          "data": {
            "image/png": "[encoded data removed]",
            "text/plain": [
              "<Figure size 432x288 with 1 Axes>"
            ]
          },
          "metadata": {
            "tags": [],
            "needs_background": "light"
          }
        },
        {
          "output_type": "display_data",
          "data": {
            "image/png": "[encoded data removed]",
            "text/plain": [
              "<Figure size 432x288 with 1 Axes>"
            ]
          },
          "metadata": {
            "tags": [],
            "needs_background": "light"
          }
        }
      ]
    },
    {
      "cell_type": "markdown",
      "metadata": {
        "id": "4XB-LQClSxW7",
        "colab_type": "text"
      },
      "source": [
        "Accuracy of the Model\n",
        "\n"
      ]
    },
    {
      "cell_type": "code",
      "metadata": {
        "id": "KtXCon6tmaTw",
        "colab_type": "code",
        "outputId": "66e9ebb7-185f-498e-ce96-68c024af6d63",
        "colab": {
          "base_uri": "https://localhost:8080/",
          "height": 34
        }
      },
      "source": [
        "accu = d.predict(x_test)\n",
        "from sklearn.metrics import mean_squared_error\n",
        "mean_squared_error(accu,y_test)"
      ],
      "execution_count": 0,
      "outputs": [
        {
          "output_type": "execute_result",
          "data": {
            "text/plain": [
              "0.09319830671789714"
            ]
          },
          "metadata": {
            "tags": []
          },
          "execution_count": 421
        }
      ]
    },
    {
      "cell_type": "markdown",
      "metadata": {
        "id": "OTG3DulSmaT2",
        "colab_type": "text"
      },
      "source": [
        "Desicions Trees"
      ]
    },
    {
      "cell_type": "code",
      "metadata": {
        "id": "hWNQmB62maT3",
        "colab_type": "code",
        "outputId": "88e0b1f1-e938-42aa-93d1-0fd6c763ee99",
        "colab": {
          "base_uri": "https://localhost:8080/",
          "height": 34
        }
      },
      "source": [
        "import pandas as pd\n",
        "import matplotlib.pyplot as plt\n",
        "import numpy as np\n",
        "data = pd.read_csv('/content/gdrive/My Drive/Colab Notebooks/StocksProj/aapl.us.txt')\n",
        "data['Date'] = pd.to_datetime(data['Date'])\n",
        "data = data.set_index('Date')\n",
        "print(data.index.min(), data.index.max())\n",
        "data.head()\n",
        "testitout = pd.DataFrame([[173.70,170.78,173.14,25131300,0]])        #Insert HERE the DATA\n",
        "# from sklearn.preprocessing import StandardScaler\n",
        "# std = StandardScaler()\n",
        "# data = std.fit_transform(data)"
      ],
      "execution_count": 0,
      "outputs": [
        {
          "output_type": "stream",
          "text": [
            "1984-09-07 00:00:00 2017-11-10 00:00:00\n"
          ],
          "name": "stdout"
        }
      ]
    },
    {
      "cell_type": "markdown",
      "metadata": {
        "id": "B4vYqXHwSz0x",
        "colab_type": "text"
      },
      "source": [
        "Training the DATA\n"
      ]
    },
    {
      "cell_type": "code",
      "metadata": {
        "id": "mNJqcr1JmaT-",
        "colab_type": "code",
        "colab": {}
      },
      "source": [
        "x = data.iloc[:,1:]\n",
        "y = data.iloc[:,0]\n",
        "from sklearn.model_selection import train_test_split\n",
        "x_train,x_test,y_train,y_test = train_test_split(x,y,train_size = 0.8)"
      ],
      "execution_count": 0,
      "outputs": []
    },
    {
      "cell_type": "code",
      "metadata": {
        "id": "w3yECbQJmaUF",
        "colab_type": "code",
        "outputId": "2d23f601-5319-48b6-b12c-01fec77e1301",
        "colab": {
          "base_uri": "https://localhost:8080/",
          "height": 34
        }
      },
      "source": [
        "from sklearn.tree import DecisionTreeRegressor\n",
        "rand = DecisionTreeRegressor(max_depth=30)\n",
        "d = rand.fit(x_train,y_train)\n",
        "pred = d.predict(testitout)\n",
        "pred"
      ],
      "execution_count": 0,
      "outputs": [
        {
          "output_type": "execute_result",
          "data": {
            "text/plain": [
              "array([173.38])"
            ]
          },
          "metadata": {
            "tags": []
          },
          "execution_count": 424
        }
      ]
    },
    {
      "cell_type": "markdown",
      "metadata": {
        "id": "UMW4y39bS2lr",
        "colab_type": "text"
      },
      "source": [
        "Plotting the DATA"
      ]
    },
    {
      "cell_type": "code",
      "metadata": {
        "id": "QtGTpppW7aKa",
        "colab_type": "code",
        "outputId": "3ee56aa7-03bd-4294-8c42-777ed6934346",
        "colab": {
          "base_uri": "https://localhost:8080/",
          "height": 280
        }
      },
      "source": [
        "from pandas import read_csv\n",
        "from matplotlib import pyplot\n",
        "series = read_csv('/content/gdrive/My Drive/Colab Notebooks/StocksProj/aapl.us.txt', header=0, index_col=0, parse_dates=True, squeeze=True)\n",
        "series.plot()\n",
        "pyplot.show()"
      ],
      "execution_count": 0,
      "outputs": [
        {
          "output_type": "display_data",
          "data": {
            "image/png": "[encoded data removed]",
            "text/plain": [
              "<Figure size 432x288 with 1 Axes>"
            ]
          },
          "metadata": {
            "tags": [],
            "needs_background": "light"
          }
        }
      ]
    },
    {
      "cell_type": "markdown",
      "metadata": {
        "id": "tFL-7pMbS5SP",
        "colab_type": "text"
      },
      "source": [
        "Plotting it with various labels\n"
      ]
    },
    {
      "cell_type": "code",
      "metadata": {
        "id": "E-s_OYiAEffI",
        "colab_type": "code",
        "outputId": "6663b316-3e3c-4723-877c-710ecd028389",
        "colab": {
          "base_uri": "https://localhost:8080/",
          "height": 549
        }
      },
      "source": [
        "data = pd.read_csv('/content/gdrive/My Drive/Colab Notebooks/StocksProj/aapl.us.txt')\n",
        "data['Date'] = pd.to_datetime(data['Date'])\n",
        "data = pd.DataFrame(data)\n",
        "data.set_index('Date').plot()\n",
        "data.plot(x='Date', y='Open')"
      ],
      "execution_count": 0,
      "outputs": [
        {
          "output_type": "execute_result",
          "data": {
            "text/plain": [
              "<matplotlib.axes._subplots.AxesSubplot at 0x7f16fb96cb38>"
            ]
          },
          "metadata": {
            "tags": []
          },
          "execution_count": 426
        },
        {
          "output_type": "display_data",
          "data": {
            "image/png": "[encoded data removed]",
            "text/plain": [
              "<Figure size 432x288 with 1 Axes>"
            ]
          },
          "metadata": {
            "tags": [],
            "needs_background": "light"
          }
        },
        {
          "output_type": "display_data",
          "data": {
            "image/png": "[encoded data removed]",
            "text/plain": [
              "<Figure size 432x288 with 1 Axes>"
            ]
          },
          "metadata": {
            "tags": [],
            "needs_background": "light"
          }
        }
      ]
    },
    {
      "cell_type": "markdown",
      "metadata": {
        "id": "OrTBGrgcS9NA",
        "colab_type": "text"
      },
      "source": [
        "Accuracy of the Model"
      ]
    },
    {
      "cell_type": "code",
      "metadata": {
        "id": "mCMgEh1amaUK",
        "colab_type": "code",
        "outputId": "264b5e51-d5e3-4e8b-e473-4b2ac88b396c",
        "colab": {
          "base_uri": "https://localhost:8080/",
          "height": 34
        }
      },
      "source": [
        "# from sklearn.metrics import mean_squared_error\n",
        "# mean_squared_error(pred,y_test)\n",
        "accu = d.predict(x_test)\n",
        "from sklearn.metrics import mean_squared_error\n",
        "mean_squared_error(accu,y_test)"
      ],
      "execution_count": 0,
      "outputs": [
        {
          "output_type": "execute_result",
          "data": {
            "text/plain": [
              "0.21795696565206243"
            ]
          },
          "metadata": {
            "tags": []
          },
          "execution_count": 427
        }
      ]
    },
    {
      "cell_type": "markdown",
      "metadata": {
        "id": "o_WJsQgUmaUP",
        "colab_type": "text"
      },
      "source": [
        "LSTM"
      ]
    },
    {
      "cell_type": "code",
      "metadata": {
        "id": "er1obVNmV8Il",
        "colab_type": "code",
        "colab": {}
      },
      "source": [
        "import numpy as np # linear algebra\n",
        "import pandas as pd # data processing, CSV file I/O (e.g. pd.read_csv)\n",
        "import matplotlib.pyplot as plt\n",
        "import warnings\n",
        "warnings.filterwarnings('ignore')"
      ],
      "execution_count": 0,
      "outputs": []
    },
    {
      "cell_type": "code",
      "metadata": {
        "id": "8-_2WqkPWIGk",
        "colab_type": "code",
        "outputId": "f105eaac-8056-475d-ba13-1ff076e030fb",
        "colab": {
          "base_uri": "https://localhost:8080/",
          "height": 195
        }
      },
      "source": [
        "data = pd.read_csv(\"/content/gdrive/My Drive/Colab Notebooks/StocksProj/aapl.us.txt\")\n",
        "data.head()"
      ],
      "execution_count": 0,
      "outputs": [
        {
          "output_type": "execute_result",
          "data": {
            "text/html": [
              "<div>\n",
              "<style scoped>\n",
              "    .dataframe tbody tr th:only-of-type {\n",
              "        vertical-align: middle;\n",
              "    }\n",
              "\n",
              "    .dataframe tbody tr th {\n",
              "        vertical-align: top;\n",
              "    }\n",
              "\n",
              "    .dataframe thead th {\n",
              "        text-align: right;\n",
              "    }\n",
              "</style>\n",
              "<table border=\"1\" class=\"dataframe\">\n",
              "  <thead>\n",
              "    <tr style=\"text-align: right;\">\n",
              "      <th></th>\n",
              "      <th>Date</th>\n",
              "      <th>Open</th>\n",
              "      <th>High</th>\n",
              "      <th>Low</th>\n",
              "      <th>Close</th>\n",
              "      <th>Volume</th>\n",
              "      <th>OpenInt</th>\n",
              "    </tr>\n",
              "  </thead>\n",
              "  <tbody>\n",
              "    <tr>\n",
              "      <th>0</th>\n",
              "      <td>1984-09-07</td>\n",
              "      <td>0.42388</td>\n",
              "      <td>0.42902</td>\n",
              "      <td>0.41874</td>\n",
              "      <td>0.42388</td>\n",
              "      <td>23220030</td>\n",
              "      <td>0</td>\n",
              "    </tr>\n",
              "    <tr>\n",
              "      <th>1</th>\n",
              "      <td>1984-09-10</td>\n",
              "      <td>0.42388</td>\n",
              "      <td>0.42516</td>\n",
              "      <td>0.41366</td>\n",
              "      <td>0.42134</td>\n",
              "      <td>18022532</td>\n",
              "      <td>0</td>\n",
              "    </tr>\n",
              "    <tr>\n",
              "      <th>2</th>\n",
              "      <td>1984-09-11</td>\n",
              "      <td>0.42516</td>\n",
              "      <td>0.43668</td>\n",
              "      <td>0.42516</td>\n",
              "      <td>0.42902</td>\n",
              "      <td>42498199</td>\n",
              "      <td>0</td>\n",
              "    </tr>\n",
              "    <tr>\n",
              "      <th>3</th>\n",
              "      <td>1984-09-12</td>\n",
              "      <td>0.42902</td>\n",
              "      <td>0.43157</td>\n",
              "      <td>0.41618</td>\n",
              "      <td>0.41618</td>\n",
              "      <td>37125801</td>\n",
              "      <td>0</td>\n",
              "    </tr>\n",
              "    <tr>\n",
              "      <th>4</th>\n",
              "      <td>1984-09-13</td>\n",
              "      <td>0.43927</td>\n",
              "      <td>0.44052</td>\n",
              "      <td>0.43927</td>\n",
              "      <td>0.43927</td>\n",
              "      <td>57822062</td>\n",
              "      <td>0</td>\n",
              "    </tr>\n",
              "  </tbody>\n",
              "</table>\n",
              "</div>"
            ],
            "text/plain": [
              "         Date     Open     High      Low    Close    Volume  OpenInt\n",
              "0  1984-09-07  0.42388  0.42902  0.41874  0.42388  23220030        0\n",
              "1  1984-09-10  0.42388  0.42516  0.41366  0.42134  18022532        0\n",
              "2  1984-09-11  0.42516  0.43668  0.42516  0.42902  42498199        0\n",
              "3  1984-09-12  0.42902  0.43157  0.41618  0.41618  37125801        0\n",
              "4  1984-09-13  0.43927  0.44052  0.43927  0.43927  57822062        0"
            ]
          },
          "metadata": {
            "tags": []
          },
          "execution_count": 429
        }
      ]
    },
    {
      "cell_type": "code",
      "metadata": {
        "id": "6ePFhBYMWWxD",
        "colab_type": "code",
        "outputId": "8028fb07-c14c-4b92-8504-8927ebf419de",
        "colab": {
          "base_uri": "https://localhost:8080/",
          "height": 34
        }
      },
      "source": [
        "traindata = data.loc[:,[\"Open\"]].values\n",
        "train_size = int(len(traindata) * 0.9938)\n",
        "test_size = len(traindata) - train_size\n",
        "train, test = traindata[0:train_size,:], traindata[train_size:len(traindata),:]\n",
        "print(len(train), len(test))"
      ],
      "execution_count": 0,
      "outputs": [
        {
          "output_type": "stream",
          "text": [
            "8312 52\n"
          ],
          "name": "stdout"
        }
      ]
    },
    {
      "cell_type": "code",
      "metadata": {
        "id": "lVqB2aDwWfPN",
        "colab_type": "code",
        "outputId": "d15c5665-3d6f-4eba-81bd-aae5225ebe3d",
        "colab": {
          "base_uri": "https://localhost:8080/",
          "height": 134
        }
      },
      "source": [
        "from sklearn.preprocessing import MinMaxScaler\n",
        "scaler = MinMaxScaler(feature_range= (0,1))\n",
        "train_scaled =scaler.fit_transform(train)\n",
        "train_scaled"
      ],
      "execution_count": 0,
      "outputs": [
        {
          "output_type": "execute_result",
          "data": {
            "text/plain": [
              "array([[0.00118435],\n",
              "       [0.00118435],\n",
              "       [0.00119229],\n",
              "       ...,\n",
              "       [0.98584967],\n",
              "       [0.98889075],\n",
              "       [0.9886425 ]])"
            ]
          },
          "metadata": {
            "tags": []
          },
          "execution_count": 431
        }
      ]
    },
    {
      "cell_type": "code",
      "metadata": {
        "id": "dafEQkDrWo2K",
        "colab_type": "code",
        "outputId": "e14710ed-a3b5-4144-9d19-bd5eac512e86",
        "colab": {
          "base_uri": "https://localhost:8080/",
          "height": 34
        }
      },
      "source": [
        "X_train = []\n",
        "y_train = []\n",
        "timesteps = 50\n",
        "print(train_scaled[0, 0])\n",
        "for i in range(timesteps, train.shape[0]):\n",
        "   \n",
        "    X_train.append(train_scaled[i-timesteps:i, 0])\n",
        "    y_train.append(train_scaled[i, 0])\n",
        "    \n",
        "X_train, y_train = np.array(X_train), np.array(y_train)"
      ],
      "execution_count": 0,
      "outputs": [
        {
          "output_type": "stream",
          "text": [
            "0.0011843456355376924\n"
          ],
          "name": "stdout"
        }
      ]
    },
    {
      "cell_type": "code",
      "metadata": {
        "id": "cwbkEMEAWuIQ",
        "colab_type": "code",
        "outputId": "271eb8d9-44ca-42fb-e456-bebe513ef9e8",
        "colab": {
          "base_uri": "https://localhost:8080/",
          "height": 34
        }
      },
      "source": [
        "# Reshaping\n",
        "X_train = np.reshape(X_train, (X_train.shape[0], X_train.shape[1], 1))\n",
        "X_train.shape"
      ],
      "execution_count": 0,
      "outputs": [
        {
          "output_type": "execute_result",
          "data": {
            "text/plain": [
              "(8262, 50, 1)"
            ]
          },
          "metadata": {
            "tags": []
          },
          "execution_count": 433
        }
      ]
    },
    {
      "cell_type": "code",
      "metadata": {
        "id": "LOSq4luJXk85",
        "colab_type": "code",
        "outputId": "9d2c4b7d-19fd-4f4b-c2cc-e9f2f8d709d9",
        "colab": {
          "base_uri": "https://localhost:8080/",
          "height": 34
        }
      },
      "source": [
        "dataset = dataset.reshape(-1,1)\n",
        "dataset = dataset.astype(\"float32\")\n",
        "dataset.shape"
      ],
      "execution_count": 0,
      "outputs": [
        {
          "output_type": "execute_result",
          "data": {
            "text/plain": [
              "(8364, 1)"
            ]
          },
          "metadata": {
            "tags": []
          },
          "execution_count": 434
        }
      ]
    },
    {
      "cell_type": "code",
      "metadata": {
        "id": "rHHjdgJ3XnSu",
        "colab_type": "code",
        "colab": {}
      },
      "source": [
        "# scaling \n",
        "scaler = MinMaxScaler(feature_range=(0, 1))\n",
        "dataset = scaler.fit_transform(dataset)"
      ],
      "execution_count": 0,
      "outputs": []
    },
    {
      "cell_type": "code",
      "metadata": {
        "id": "3d325AzzXpoA",
        "colab_type": "code",
        "outputId": "225298cf-b7b3-45bc-cc4a-ae3d545e672c",
        "colab": {
          "base_uri": "https://localhost:8080/",
          "height": 34
        }
      },
      "source": [
        "train_size = int(len(dataset) * 0.70)\n",
        "test_size = len(dataset) - train_size\n",
        "train = dataset[0:train_size,:]\n",
        "test = dataset[train_size:len(dataset),:]\n",
        "print(\"train size: {}, test size: {} \".format(len(train), len(test)))"
      ],
      "execution_count": 0,
      "outputs": [
        {
          "output_type": "stream",
          "text": [
            "train size: 5854, test size: 2510 \n"
          ],
          "name": "stdout"
        }
      ]
    },
    {
      "cell_type": "code",
      "metadata": {
        "id": "xUDn65FWXsTF",
        "colab_type": "code",
        "colab": {}
      },
      "source": [
        "time_stemp = 5\n",
        "dataX = []\n",
        "dataY = []\n",
        "for i in range(len(train)-time_stemp-1):\n",
        "    a = train[i:(i+time_stemp), 0]\n",
        "    dataX.append(a)\n",
        "    dataY.append(train[i + time_stemp, 0])\n",
        "trainX = np.array(dataX)\n",
        "trainY = np.array(dataY) "
      ],
      "execution_count": 0,
      "outputs": []
    },
    {
      "cell_type": "code",
      "metadata": {
        "id": "S7lhBrj9XvAR",
        "colab_type": "code",
        "colab": {}
      },
      "source": [
        "dataX = []\n",
        "dataY = []\n",
        "for i in range(len(test)-time_stemp-1):\n",
        "    a = test[i:(i+time_stemp), 0]\n",
        "    dataX.append(a)\n",
        "    dataY.append(test[i + time_stemp, 0])\n",
        "testX = np.array(dataX)\n",
        "testY = np.array(dataY) "
      ],
      "execution_count": 0,
      "outputs": []
    },
    {
      "cell_type": "code",
      "metadata": {
        "id": "X370yk8TXw-N",
        "colab_type": "code",
        "colab": {}
      },
      "source": [
        "trainX = np.reshape(trainX, (trainX.shape[0], 1, trainX.shape[1]))\n",
        "testX = np.reshape(testX, (testX.shape[0], 1, testX.shape[1]))"
      ],
      "execution_count": 0,
      "outputs": []
    },
    {
      "cell_type": "code",
      "metadata": {
        "id": "VINEfnbTX1re",
        "colab_type": "code",
        "colab": {}
      },
      "source": [
        "import matplotlib.pyplot as plt\n",
        "import math\n",
        "from keras.models import Sequential\n",
        "from keras.layers import Dense\n",
        "from keras.layers import LSTM\n",
        "from sklearn.preprocessing import MinMaxScaler\n",
        "from sklearn.metrics import mean_squared_error"
      ],
      "execution_count": 0,
      "outputs": []
    },
    {
      "cell_type": "code",
      "metadata": {
        "id": "LUcqze8qX_Cz",
        "colab_type": "code",
        "outputId": "b7b29aff-044d-4c42-e7da-b2fdd1090f1e",
        "colab": {
          "base_uri": "https://localhost:8080/",
          "height": 1000
        }
      },
      "source": [
        "# model\n",
        "import keras.backend as k\n",
        "k.clear_session()\n",
        "\n",
        "model = Sequential()\n",
        "model.add(LSTM(10, input_shape=(1, time_stemp))) # 10 lstm neuron(block)\n",
        "model.add(Dense(1))\n",
        "model.compile(loss='mean_squared_error', optimizer='adam')\n",
        "model.fit(trainX, trainY, epochs=100, batch_size=1)"
      ],
      "execution_count": 0,
      "outputs": [
        {
          "output_type": "stream",
          "text": [
            "Epoch 1/100\n",
            "5848/5848 [==============================] - 9s 2ms/step - loss: 2.1297e-05\n",
            "Epoch 2/100\n",
            "5848/5848 [==============================] - 9s 2ms/step - loss: 1.9592e-06\n",
            "Epoch 3/100\n",
            "5848/5848 [==============================] - 9s 2ms/step - loss: 1.9029e-06\n",
            "Epoch 4/100\n",
            "5848/5848 [==============================] - 9s 2ms/step - loss: 1.4925e-06\n",
            "Epoch 5/100\n",
            "5848/5848 [==============================] - 9s 2ms/step - loss: 1.5327e-06\n",
            "Epoch 6/100\n",
            "5848/5848 [==============================] - 9s 2ms/step - loss: 1.6050e-06\n",
            "Epoch 7/100\n",
            "5848/5848 [==============================] - 9s 2ms/step - loss: 1.5823e-06\n",
            "Epoch 8/100\n",
            "5848/5848 [==============================] - 9s 2ms/step - loss: 1.3914e-06\n",
            "Epoch 9/100\n",
            "5848/5848 [==============================] - 9s 2ms/step - loss: 1.5677e-06\n",
            "Epoch 10/100\n",
            "5848/5848 [==============================] - 9s 2ms/step - loss: 1.2999e-06\n",
            "Epoch 11/100\n",
            "5848/5848 [==============================] - 9s 2ms/step - loss: 1.4226e-06\n",
            "Epoch 12/100\n",
            "5848/5848 [==============================] - 9s 2ms/step - loss: 1.2422e-06\n",
            "Epoch 13/100\n",
            "5848/5848 [==============================] - 9s 2ms/step - loss: 1.2842e-06\n",
            "Epoch 14/100\n",
            "5848/5848 [==============================] - 9s 2ms/step - loss: 1.3678e-06\n",
            "Epoch 15/100\n",
            "5848/5848 [==============================] - 9s 2ms/step - loss: 1.2574e-06\n",
            "Epoch 16/100\n",
            "5848/5848 [==============================] - 9s 2ms/step - loss: 1.2696e-06\n",
            "Epoch 17/100\n",
            "5848/5848 [==============================] - 9s 2ms/step - loss: 1.3746e-06\n",
            "Epoch 18/100\n",
            "5848/5848 [==============================] - 9s 2ms/step - loss: 1.2474e-06\n",
            "Epoch 19/100\n",
            "5848/5848 [==============================] - 9s 2ms/step - loss: 1.1849e-06\n",
            "Epoch 20/100\n",
            "5848/5848 [==============================] - 9s 2ms/step - loss: 1.2853e-06\n",
            "Epoch 21/100\n",
            "5848/5848 [==============================] - 9s 2ms/step - loss: 1.1768e-06\n",
            "Epoch 22/100\n",
            "5848/5848 [==============================] - 9s 2ms/step - loss: 1.1594e-06\n",
            "Epoch 23/100\n",
            "5848/5848 [==============================] - 9s 2ms/step - loss: 1.1611e-06\n",
            "Epoch 24/100\n",
            "5848/5848 [==============================] - 9s 2ms/step - loss: 1.2756e-06\n",
            "Epoch 25/100\n",
            "5848/5848 [==============================] - 9s 2ms/step - loss: 1.2036e-06\n",
            "Epoch 26/100\n",
            "5848/5848 [==============================] - 9s 2ms/step - loss: 1.1965e-06\n",
            "Epoch 27/100\n",
            "5848/5848 [==============================] - 9s 2ms/step - loss: 1.1210e-06\n",
            "Epoch 28/100\n",
            "5848/5848 [==============================] - 9s 2ms/step - loss: 1.0673e-06\n",
            "Epoch 29/100\n",
            "5848/5848 [==============================] - 9s 2ms/step - loss: 1.2181e-06\n",
            "Epoch 30/100\n",
            "5848/5848 [==============================] - 9s 2ms/step - loss: 1.1541e-06\n",
            "Epoch 31/100\n",
            "5848/5848 [==============================] - 9s 2ms/step - loss: 1.1403e-06\n",
            "Epoch 32/100\n",
            "5848/5848 [==============================] - 9s 2ms/step - loss: 1.0841e-06\n",
            "Epoch 33/100\n",
            "5848/5848 [==============================] - 9s 2ms/step - loss: 1.1726e-06\n",
            "Epoch 34/100\n",
            "5848/5848 [==============================] - 9s 2ms/step - loss: 1.1384e-06\n",
            "Epoch 35/100\n",
            "5848/5848 [==============================] - 9s 2ms/step - loss: 1.1101e-06\n",
            "Epoch 36/100\n",
            "5848/5848 [==============================] - 9s 2ms/step - loss: 1.2481e-06\n",
            "Epoch 37/100\n",
            "5848/5848 [==============================] - 9s 2ms/step - loss: 1.0282e-06\n",
            "Epoch 38/100\n",
            "5848/5848 [==============================] - 9s 2ms/step - loss: 1.1240e-06\n",
            "Epoch 39/100\n",
            "5848/5848 [==============================] - 9s 2ms/step - loss: 1.1172e-06\n",
            "Epoch 40/100\n",
            "5848/5848 [==============================] - 9s 2ms/step - loss: 1.1252e-06\n",
            "Epoch 41/100\n",
            "5848/5848 [==============================] - 9s 2ms/step - loss: 1.0562e-06\n",
            "Epoch 42/100\n",
            "5848/5848 [==============================] - 9s 2ms/step - loss: 1.0542e-06\n",
            "Epoch 43/100\n",
            "5848/5848 [==============================] - 9s 2ms/step - loss: 1.1465e-06\n",
            "Epoch 44/100\n",
            "5848/5848 [==============================] - 9s 2ms/step - loss: 1.0627e-06\n",
            "Epoch 45/100\n",
            "5848/5848 [==============================] - 9s 2ms/step - loss: 1.0439e-06\n",
            "Epoch 46/100\n",
            "5848/5848 [==============================] - 9s 2ms/step - loss: 1.0065e-06\n",
            "Epoch 47/100\n",
            "5848/5848 [==============================] - 9s 2ms/step - loss: 1.0684e-06\n",
            "Epoch 48/100\n",
            "5848/5848 [==============================] - 9s 2ms/step - loss: 1.1007e-06\n",
            "Epoch 49/100\n",
            "5848/5848 [==============================] - 9s 2ms/step - loss: 1.0197e-06\n",
            "Epoch 50/100\n",
            "5848/5848 [==============================] - 9s 2ms/step - loss: 1.0526e-06\n",
            "Epoch 51/100\n",
            "5848/5848 [==============================] - 9s 2ms/step - loss: 1.0655e-06\n",
            "Epoch 52/100\n",
            "5848/5848 [==============================] - 11s 2ms/step - loss: 1.0334e-06\n",
            "Epoch 53/100\n",
            "5848/5848 [==============================] - 9s 2ms/step - loss: 1.0144e-06\n",
            "Epoch 54/100\n",
            "5848/5848 [==============================] - 9s 2ms/step - loss: 9.9993e-07\n",
            "Epoch 55/100\n",
            "5848/5848 [==============================] - 9s 2ms/step - loss: 1.0185e-06\n",
            "Epoch 56/100\n",
            "5848/5848 [==============================] - 9s 2ms/step - loss: 1.0716e-06\n",
            "Epoch 57/100\n",
            "5848/5848 [==============================] - 9s 2ms/step - loss: 9.9287e-07\n",
            "Epoch 58/100\n",
            "5848/5848 [==============================] - 9s 2ms/step - loss: 1.0361e-06\n",
            "Epoch 59/100\n",
            "5848/5848 [==============================] - 9s 2ms/step - loss: 1.0385e-06\n",
            "Epoch 60/100\n",
            "5848/5848 [==============================] - 9s 2ms/step - loss: 1.0160e-06\n",
            "Epoch 61/100\n",
            "5848/5848 [==============================] - 9s 2ms/step - loss: 9.9128e-07\n",
            "Epoch 62/100\n",
            "5848/5848 [==============================] - 9s 2ms/step - loss: 1.0799e-06\n",
            "Epoch 63/100\n",
            "5848/5848 [==============================] - 9s 2ms/step - loss: 1.0185e-06\n",
            "Epoch 64/100\n",
            "5848/5848 [==============================] - 9s 2ms/step - loss: 1.0726e-06\n",
            "Epoch 65/100\n",
            "5848/5848 [==============================] - 9s 2ms/step - loss: 9.9650e-07\n",
            "Epoch 66/100\n",
            "5848/5848 [==============================] - 9s 2ms/step - loss: 9.8297e-07\n",
            "Epoch 67/100\n",
            "5848/5848 [==============================] - 9s 2ms/step - loss: 9.9434e-07\n",
            "Epoch 68/100\n",
            "5848/5848 [==============================] - 9s 2ms/step - loss: 1.0346e-06\n",
            "Epoch 69/100\n",
            "5848/5848 [==============================] - 9s 2ms/step - loss: 9.5506e-07\n",
            "Epoch 70/100\n",
            "5848/5848 [==============================] - 9s 2ms/step - loss: 9.9438e-07\n",
            "Epoch 71/100\n",
            "5848/5848 [==============================] - 9s 2ms/step - loss: 9.5223e-07\n",
            "Epoch 72/100\n",
            "5848/5848 [==============================] - 9s 2ms/step - loss: 1.0339e-06\n",
            "Epoch 73/100\n",
            "5848/5848 [==============================] - 9s 2ms/step - loss: 9.9713e-07\n",
            "Epoch 74/100\n",
            "5848/5848 [==============================] - 9s 2ms/step - loss: 9.5929e-07\n",
            "Epoch 75/100\n",
            "5848/5848 [==============================] - 9s 2ms/step - loss: 1.0025e-06\n",
            "Epoch 76/100\n",
            "5848/5848 [==============================] - 9s 2ms/step - loss: 9.9675e-07\n",
            "Epoch 77/100\n",
            "5848/5848 [==============================] - 9s 2ms/step - loss: 9.0220e-07\n",
            "Epoch 78/100\n",
            "5848/5848 [==============================] - 9s 2ms/step - loss: 9.5329e-07\n",
            "Epoch 79/100\n",
            "5848/5848 [==============================] - 9s 2ms/step - loss: 9.7848e-07\n",
            "Epoch 80/100\n",
            "5848/5848 [==============================] - 9s 2ms/step - loss: 9.8795e-07\n",
            "Epoch 81/100\n",
            "5848/5848 [==============================] - 9s 2ms/step - loss: 1.0074e-06\n",
            "Epoch 82/100\n",
            "5848/5848 [==============================] - 9s 2ms/step - loss: 9.5188e-07\n",
            "Epoch 83/100\n",
            "5848/5848 [==============================] - 9s 2ms/step - loss: 9.8923e-07\n",
            "Epoch 84/100\n",
            "5848/5848 [==============================] - 9s 2ms/step - loss: 9.2119e-07\n",
            "Epoch 85/100\n",
            "5848/5848 [==============================] - 9s 2ms/step - loss: 9.4808e-07\n",
            "Epoch 86/100\n",
            "5848/5848 [==============================] - 9s 2ms/step - loss: 1.0239e-06\n",
            "Epoch 87/100\n",
            "5848/5848 [==============================] - 9s 2ms/step - loss: 9.3315e-07\n",
            "Epoch 88/100\n",
            "5848/5848 [==============================] - 9s 2ms/step - loss: 1.0127e-06\n",
            "Epoch 89/100\n",
            "5848/5848 [==============================] - 9s 2ms/step - loss: 9.3931e-07\n",
            "Epoch 90/100\n",
            "5848/5848 [==============================] - 9s 2ms/step - loss: 9.5602e-07\n",
            "Epoch 91/100\n",
            "5848/5848 [==============================] - 9s 2ms/step - loss: 9.3735e-07\n",
            "Epoch 92/100\n",
            "5848/5848 [==============================] - 9s 2ms/step - loss: 9.8304e-07\n",
            "Epoch 93/100\n",
            "5848/5848 [==============================] - 9s 2ms/step - loss: 9.8561e-07\n",
            "Epoch 94/100\n",
            "5848/5848 [==============================] - 9s 2ms/step - loss: 9.2547e-07\n",
            "Epoch 95/100\n",
            "5848/5848 [==============================] - 9s 2ms/step - loss: 9.5054e-07\n",
            "Epoch 96/100\n",
            "5848/5848 [==============================] - 9s 2ms/step - loss: 9.4679e-07\n",
            "Epoch 97/100\n",
            "5848/5848 [==============================] - 9s 2ms/step - loss: 9.6201e-07\n",
            "Epoch 98/100\n",
            "5848/5848 [==============================] - 9s 2ms/step - loss: 9.8040e-07\n",
            "Epoch 99/100\n",
            "5848/5848 [==============================] - 9s 2ms/step - loss: 9.1502e-07\n",
            "Epoch 100/100\n",
            "5848/5848 [==============================] - 9s 2ms/step - loss: 9.7671e-07\n"
          ],
          "name": "stdout"
        },
        {
          "output_type": "execute_result",
          "data": {
            "text/plain": [
              "<keras.callbacks.callbacks.History at 0x7f16fb75f4e0>"
            ]
          },
          "metadata": {
            "tags": []
          },
          "execution_count": 441
        }
      ]
    },
    {
      "cell_type": "code",
      "metadata": {
        "id": "Hafgdk4LYGuw",
        "colab_type": "code",
        "outputId": "4fd8ae4d-ea8e-4f01-f3e1-fe3e6bafeb92",
        "colab": {
          "base_uri": "https://localhost:8080/",
          "height": 50
        }
      },
      "source": [
        "import random\n",
        "#val = random.randint(0, len(trainX))\n",
        "# testitout = np.array([trainX[val]])\n",
        "# actual_value = np.array([trainY[val:val+1]])\n",
        "testitout = np.array([[[173.04, 169.97, 171.18,171.04, 170.29]]]) # Actual=170.78\t\n",
        "#actual_value = np.array([[1043.87]])\n",
        "print(testitout.shape)\n",
        "pred = model.predict(testitout)\n",
        "\n",
        "print(f\"Predicted value: {scaler.inverse_transform(pred)}\")"
      ],
      "execution_count": 0,
      "outputs": [
        {
          "output_type": "stream",
          "text": [
            "(1, 1, 5)\n",
            "Predicted value: [[0.51043934]]\n"
          ],
          "name": "stdout"
        }
      ]
    },
    {
      "cell_type": "code",
      "metadata": {
        "id": "vXEYEq1CTKZL",
        "colab_type": "code",
        "outputId": "558c4d33-0fdf-46c7-9bb7-59c039b854dc",
        "colab": {
          "base_uri": "https://localhost:8080/",
          "height": 265
        }
      },
      "source": [
        "import matplotlib.pyplot as plt\n",
        "plt.plot(history.history['loss'])\n",
        "plt.show()"
      ],
      "execution_count": 0,
      "outputs": [
        {
          "output_type": "display_data",
          "data": {
            "image/png": "[encoded data removed]",
            "text/plain": [
              "<Figure size 432x288 with 1 Axes>"
            ]
          },
          "metadata": {
            "tags": [],
            "needs_background": "light"
          }
        }
      ]
    },
    {
      "cell_type": "code",
      "metadata": {
        "id": "pw9fXHDdUBkW",
        "colab_type": "code",
        "outputId": "bfb31fe7-cf12-42a2-f838-006de349b75d",
        "colab": {
          "base_uri": "https://localhost:8080/",
          "height": 797
        }
      },
      "source": [
        "import matplotlib.pyplot as plt\n",
        "plt.plot(history.history['loss'])\n",
        "plt.show()\n",
        "data = pd.read_csv('/content/gdrive/My Drive/Colab Notebooks/StocksProj/aapl.us.txt')\n",
        "data['Date'] = pd.to_datetime(data['Date'])\n",
        "data = pd.DataFrame(data)\n",
        "data.set_index('Date').plot()\n",
        "data.plot(x='Date', y='Open')"
      ],
      "execution_count": 0,
      "outputs": [
        {
          "output_type": "display_data",
          "data": {
            "image/png": "[encoded data removed]",
            "text/plain": [
              "<Figure size 432x288 with 1 Axes>"
            ]
          },
          "metadata": {
            "tags": [],
            "needs_background": "light"
          }
        },
        {
          "output_type": "execute_result",
          "data": {
            "text/plain": [
              "<matplotlib.axes._subplots.AxesSubplot at 0x7f16fb3c1c88>"
            ]
          },
          "metadata": {
            "tags": []
          },
          "execution_count": 447
        },
        {
          "output_type": "display_data",
          "data": {
            "image/png": "[encoded data removed]",
            "text/plain": [
              "<Figure size 432x288 with 1 Axes>"
            ]
          },
          "metadata": {
            "tags": [],
            "needs_background": "light"
          }
        },
        {
          "output_type": "display_data",
          "data": {
            "image/png": "[encoded data removed]",
            "text/plain": [
              "<Figure size 432x288 with 1 Axes>"
            ]
          },
          "metadata": {
            "tags": [],
            "needs_background": "light"
          }
        }
      ]
    }
  ]
}