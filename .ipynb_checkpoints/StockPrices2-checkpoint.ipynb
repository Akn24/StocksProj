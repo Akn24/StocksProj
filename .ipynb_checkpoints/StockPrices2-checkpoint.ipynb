{
 "cells": [
  {
   "cell_type": "code",
   "execution_count": 95,
   "metadata": {},
   "outputs": [
    {
     "name": "stdout",
     "output_type": "stream",
     "text": [
      "2010-07-21 00:00:00 2017-11-10 00:00:00\n"
     ]
    },
    {
     "name": "stderr",
     "output_type": "stream",
     "text": [
      "C:\\Users\\PREMRAJ\\Anaconda3\\lib\\site-packages\\sklearn\\preprocessing\\data.py:334: DataConversionWarning: Data with input dtype int64, float64 were all converted to float64 by MinMaxScaler.\n",
      "  return self.partial_fit(X, y)\n"
     ]
    }
   ],
   "source": [
    "import pandas as pd\n",
    "import matplotlib.pyplot as plt\n",
    "import numpy as np\n",
    "data = pd.read_csv('./dataset2.txt')\n",
    "data['Date'] = pd.to_datetime(data['Date'])\n",
    "data = data.set_index('Date')\n",
    "print(data.index.min(), data.index.max())\n",
    "data.head()\n",
    "from sklearn.preprocessing import StandardScaler\n",
    "std = MinMaxScaler()\n",
    "data = std.fit_transform(data)"
   ]
  },
  {
   "cell_type": "code",
   "execution_count": 96,
   "metadata": {},
   "outputs": [
    {
     "name": "stderr",
     "output_type": "stream",
     "text": [
      "C:\\Users\\PREMRAJ\\Anaconda3\\lib\\site-packages\\sklearn\\model_selection\\_split.py:2179: FutureWarning: From version 0.21, test_size will always complement train_size unless both are specified.\n",
      "  FutureWarning)\n"
     ]
    }
   ],
   "source": [
    "x = data[:,1:]\n",
    "y = data[:,0]\n",
    "from sklearn.model_selection import train_test_split\n",
    "x_train,x_test,y_train,y_test = train_test_split(x,y,train_size = 0.8)"
   ]
  },
  {
   "cell_type": "code",
   "execution_count": 97,
   "metadata": {},
   "outputs": [
    {
     "name": "stderr",
     "output_type": "stream",
     "text": [
      "C:\\Users\\PREMRAJ\\Anaconda3\\lib\\site-packages\\sklearn\\ensemble\\forest.py:246: FutureWarning: The default value of n_estimators will change from 10 in version 0.20 to 100 in 0.22.\n",
      "  \"10 in version 0.20 to 100 in 0.22.\", FutureWarning)\n"
     ]
    }
   ],
   "source": [
    "from sklearn.ensemble import RandomForestRegressor\n",
    "rand = RandomForestRegressor(max_depth=30)\n",
    "d = rand.fit(x_train,y_train)"
   ]
  },
  {
   "cell_type": "code",
   "execution_count": 98,
   "metadata": {},
   "outputs": [],
   "source": [
    "pred = d.predict(x_test)"
   ]
  },
  {
   "cell_type": "code",
   "execution_count": 99,
   "metadata": {},
   "outputs": [
    {
     "data": {
      "text/plain": [
       "2.4172670051460197e-05"
      ]
     },
     "execution_count": 99,
     "metadata": {},
     "output_type": "execute_result"
    }
   ],
   "source": [
    "from sklearn.metrics import mean_squared_error\n",
    "mean_squared_error(pred,y_test)"
   ]
  },
  {
   "cell_type": "code",
   "execution_count": 100,
   "metadata": {},
   "outputs": [
    {
     "data": {
      "text/plain": [
       "array([[0.0114462 , 0.011129  , 0.002335  , 0.        , 0.40814231,\n",
       "        0.        ],\n",
       "       [0.02041287, 0.02007247, 0.01463069, 0.01568844, 0.16986536,\n",
       "        0.        ],\n",
       "       [0.02372852, 0.02337954, 0.01321195, 0.01626841, 0.08380678,\n",
       "        0.        ],\n",
       "       ...,\n",
       "       [0.96223042, 0.96635417, 0.98581267, 0.97274098, 0.67618267,\n",
       "        0.        ],\n",
       "       [0.95992388, 0.9571519 , 0.97073863, 0.95640007, 0.5005606 ,\n",
       "        0.        ],\n",
       "       [0.95213931, 0.94938747, 0.96130701, 0.94113212, 0.2754082 ,\n",
       "        0.        ]])"
      ]
     },
     "execution_count": 100,
     "metadata": {},
     "output_type": "execute_result"
    }
   ],
   "source": [
    "data"
   ]
  },
  {
   "cell_type": "code",
   "execution_count": null,
   "metadata": {},
   "outputs": [],
   "source": []
  },
  {
   "cell_type": "markdown",
   "metadata": {},
   "source": [
    "Desicions Trees"
   ]
  },
  {
   "cell_type": "code",
   "execution_count": 104,
   "metadata": {},
   "outputs": [
    {
     "name": "stdout",
     "output_type": "stream",
     "text": [
      "2010-07-21 00:00:00 2017-11-10 00:00:00\n"
     ]
    },
    {
     "name": "stderr",
     "output_type": "stream",
     "text": [
      "C:\\Users\\PREMRAJ\\Anaconda3\\lib\\site-packages\\sklearn\\preprocessing\\data.py:334: DataConversionWarning: Data with input dtype int64, float64 were all converted to float64 by MinMaxScaler.\n",
      "  return self.partial_fit(X, y)\n"
     ]
    }
   ],
   "source": [
    "import pandas as pd\n",
    "import matplotlib.pyplot as plt\n",
    "import numpy as np\n",
    "data = pd.read_csv('./dataset2.txt')\n",
    "data['Date'] = pd.to_datetime(data['Date'])\n",
    "data = data.set_index('Date')\n",
    "print(data.index.min(), data.index.max())\n",
    "data.head()\n",
    "from sklearn.preprocessing import StandardScaler\n",
    "std = MinMaxScaler()\n",
    "data = std.fit_transform(data)"
   ]
  },
  {
   "cell_type": "code",
   "execution_count": 105,
   "metadata": {},
   "outputs": [
    {
     "name": "stderr",
     "output_type": "stream",
     "text": [
      "C:\\Users\\PREMRAJ\\Anaconda3\\lib\\site-packages\\sklearn\\model_selection\\_split.py:2179: FutureWarning: From version 0.21, test_size will always complement train_size unless both are specified.\n",
      "  FutureWarning)\n"
     ]
    }
   ],
   "source": [
    "x = data[:,1:]\n",
    "y = data[:,0]\n",
    "from sklearn.model_selection import train_test_split\n",
    "x_train,x_test,y_train,y_test = train_test_split(x,y,train_size = 0.8)"
   ]
  },
  {
   "cell_type": "code",
   "execution_count": 106,
   "metadata": {},
   "outputs": [],
   "source": [
    "from sklearn.tree import DecisionTreeRegressor\n",
    "rand = DecisionTreeRegressor(max_depth=30)\n",
    "d = rand.fit(x_train,y_train)\n",
    "pred = d.predict(x_test)"
   ]
  },
  {
   "cell_type": "code",
   "execution_count": 107,
   "metadata": {},
   "outputs": [
    {
     "data": {
      "text/plain": [
       "5.015182244665312e-05"
      ]
     },
     "execution_count": 107,
     "metadata": {},
     "output_type": "execute_result"
    }
   ],
   "source": [
    "from sklearn.metrics import mean_squared_error\n",
    "mean_squared_error(pred,y_test)"
   ]
  },
  {
   "cell_type": "markdown",
   "metadata": {},
   "source": [
    "LSTM"
   ]
  },
  {
   "cell_type": "code",
   "execution_count": 120,
   "metadata": {},
   "outputs": [
    {
     "name": "stdout",
     "output_type": "stream",
     "text": [
      "2010-07-21 00:00:00 2017-11-10 00:00:00\n"
     ]
    },
    {
     "name": "stderr",
     "output_type": "stream",
     "text": [
      "C:\\Users\\PREMRAJ\\Anaconda3\\lib\\site-packages\\sklearn\\preprocessing\\data.py:334: DataConversionWarning: Data with input dtype int64, float64 were all converted to float64 by MinMaxScaler.\n",
      "  return self.partial_fit(X, y)\n"
     ]
    }
   ],
   "source": [
    "import pandas as pd\n",
    "import matplotlib.pyplot as plt\n",
    "import numpy as np\n",
    "data = pd.read_csv('./dataset2.txt')\n",
    "data['Date'] = pd.to_datetime(data['Date'])\n",
    "data = data.set_index('Date')\n",
    "print(data.index.min(), data.index.max())\n",
    "data.head()\n",
    "from sklearn.preprocessing import StandardScaler\n",
    "std = MinMaxScaler()\n",
    "data = std.fit_transform(data)"
   ]
  },
  {
   "cell_type": "code",
   "execution_count": 121,
   "metadata": {},
   "outputs": [
    {
     "name": "stderr",
     "output_type": "stream",
     "text": [
      "C:\\Users\\PREMRAJ\\Anaconda3\\lib\\site-packages\\ipykernel_launcher.py:42: UserWarning: The `input_dim` and `input_length` arguments in recurrent layers are deprecated. Use `input_shape` instead.\n",
      "C:\\Users\\PREMRAJ\\Anaconda3\\lib\\site-packages\\ipykernel_launcher.py:42: UserWarning: Update your `LSTM` call to the Keras 2 API: `LSTM(units=6, input_shape=(None, 5))`\n"
     ]
    },
    {
     "name": "stdout",
     "output_type": "stream",
     "text": [
      "WARNING:tensorflow:From C:\\Users\\PREMRAJ\\Anaconda3\\lib\\site-packages\\tensorflow\\python\\ops\\math_ops.py:3066: to_int32 (from tensorflow.python.ops.math_ops) is deprecated and will be removed in a future version.\n",
      "Instructions for updating:\n",
      "Use tf.cast instead.\n",
      "Epoch 1/100\n",
      " - 8s - loss: 0.0278\n",
      "Epoch 2/100\n",
      " - 5s - loss: 7.3569e-04\n",
      "Epoch 3/100\n",
      " - 5s - loss: 1.9323e-04\n",
      "Epoch 4/100\n",
      " - 6s - loss: 9.6778e-05\n",
      "Epoch 5/100\n",
      " - 6s - loss: 7.6406e-05\n",
      "Epoch 6/100\n",
      " - 5s - loss: 7.7348e-05\n",
      "Epoch 7/100\n",
      " - 5s - loss: 7.8795e-05\n",
      "Epoch 8/100\n",
      " - 5s - loss: 8.0805e-05\n",
      "Epoch 9/100\n",
      " - 5s - loss: 8.2059e-05\n",
      "Epoch 10/100\n",
      " - 5s - loss: 7.6301e-05\n",
      "Epoch 11/100\n",
      " - 6s - loss: 7.6053e-05\n",
      "Epoch 12/100\n",
      " - 6s - loss: 7.5841e-05\n",
      "Epoch 13/100\n",
      " - 7s - loss: 7.6861e-05\n",
      "Epoch 14/100\n",
      " - 5s - loss: 7.3025e-05\n",
      "Epoch 15/100\n",
      " - 5s - loss: 7.5524e-05\n",
      "Epoch 16/100\n",
      " - 5s - loss: 6.8785e-05\n",
      "Epoch 17/100\n",
      " - 5s - loss: 7.1318e-05\n",
      "Epoch 18/100\n",
      " - 6s - loss: 7.0748e-05\n",
      "Epoch 19/100\n",
      " - 6s - loss: 7.0033e-05\n",
      "Epoch 20/100\n",
      " - 5s - loss: 6.9889e-05\n",
      "Epoch 21/100\n",
      " - 5s - loss: 6.8682e-05\n",
      "Epoch 22/100\n",
      " - 5s - loss: 6.6798e-05\n",
      "Epoch 23/100\n",
      " - 5s - loss: 6.4889e-05\n",
      "Epoch 24/100\n",
      " - 5s - loss: 6.2498e-05\n",
      "Epoch 25/100\n",
      " - 5s - loss: 6.3356e-05\n",
      "Epoch 26/100\n",
      " - 5s - loss: 6.3107e-05\n",
      "Epoch 27/100\n",
      " - 4s - loss: 6.2393e-05\n",
      "Epoch 28/100\n",
      " - 5s - loss: 6.7398e-05\n",
      "Epoch 29/100\n",
      " - 5s - loss: 6.3280e-05\n",
      "Epoch 30/100\n",
      " - 5s - loss: 5.7263e-05\n",
      "Epoch 31/100\n",
      " - 5s - loss: 5.8940e-05\n",
      "Epoch 32/100\n",
      " - 5s - loss: 6.1628e-05\n",
      "Epoch 33/100\n",
      " - 5s - loss: 5.7551e-05\n",
      "Epoch 34/100\n",
      " - 5s - loss: 5.6916e-05\n",
      "Epoch 35/100\n",
      " - 5s - loss: 6.0540e-05\n",
      "Epoch 36/100\n",
      " - 5s - loss: 5.8546e-05\n",
      "Epoch 37/100\n",
      " - 5s - loss: 5.9733e-05\n",
      "Epoch 38/100\n",
      " - 5s - loss: 5.6433e-05\n",
      "Epoch 39/100\n",
      " - 5s - loss: 5.7513e-05\n",
      "Epoch 40/100\n",
      " - 5s - loss: 5.4331e-05\n",
      "Epoch 41/100\n",
      " - 6s - loss: 5.6863e-05\n",
      "Epoch 42/100\n",
      " - 4s - loss: 5.3210e-05\n",
      "Epoch 43/100\n",
      " - 5s - loss: 5.4866e-05\n",
      "Epoch 44/100\n",
      " - 5s - loss: 5.4993e-05\n",
      "Epoch 45/100\n",
      " - 5s - loss: 5.5391e-05\n",
      "Epoch 46/100\n",
      " - 5s - loss: 5.1225e-05\n",
      "Epoch 47/100\n",
      " - 5s - loss: 5.3301e-05\n",
      "Epoch 48/100\n",
      " - 5s - loss: 5.0957e-05\n",
      "Epoch 49/100\n",
      " - 5s - loss: 4.9133e-05\n",
      "Epoch 50/100\n",
      " - 5s - loss: 5.0360e-05\n",
      "Epoch 51/100\n",
      " - 5s - loss: 5.1672e-05\n",
      "Epoch 52/100\n",
      " - 5s - loss: 5.6999e-05\n",
      "Epoch 53/100\n",
      " - 4s - loss: 5.2974e-05\n",
      "Epoch 54/100\n",
      " - 4s - loss: 5.2680e-05\n",
      "Epoch 55/100\n",
      " - 6s - loss: 5.0438e-05\n",
      "Epoch 56/100\n",
      " - 5s - loss: 5.2490e-05\n",
      "Epoch 57/100\n",
      " - 6s - loss: 5.1537e-05\n",
      "Epoch 58/100\n",
      " - 5s - loss: 5.0926e-05\n",
      "Epoch 59/100\n",
      " - 6s - loss: 5.2702e-05\n",
      "Epoch 60/100\n",
      " - 6s - loss: 4.8315e-05\n",
      "Epoch 61/100\n",
      " - 7s - loss: 5.0593e-05\n",
      "Epoch 62/100\n",
      " - 7s - loss: 4.9841e-05\n",
      "Epoch 63/100\n",
      " - 7s - loss: 4.9713e-05\n",
      "Epoch 64/100\n",
      " - 5s - loss: 4.9740e-05\n",
      "Epoch 65/100\n",
      " - 5s - loss: 4.8045e-05\n",
      "Epoch 66/100\n",
      " - 5s - loss: 4.8305e-05\n",
      "Epoch 67/100\n",
      " - 5s - loss: 4.9870e-05\n",
      "Epoch 68/100\n",
      " - 5s - loss: 4.4637e-05\n",
      "Epoch 69/100\n",
      " - 5s - loss: 4.8713e-05\n",
      "Epoch 70/100\n",
      " - 5s - loss: 4.9131e-05\n",
      "Epoch 71/100\n",
      " - 5s - loss: 4.6814e-05\n",
      "Epoch 72/100\n",
      " - 5s - loss: 4.9051e-05\n",
      "Epoch 73/100\n",
      " - 6s - loss: 4.8509e-05\n",
      "Epoch 74/100\n",
      " - 5s - loss: 4.7446e-05\n",
      "Epoch 75/100\n",
      " - 5s - loss: 4.6216e-05\n",
      "Epoch 76/100\n",
      " - 5s - loss: 4.6643e-05\n",
      "Epoch 77/100\n",
      " - 5s - loss: 4.6844e-05\n",
      "Epoch 78/100\n",
      " - 5s - loss: 4.9424e-05\n",
      "Epoch 79/100\n",
      " - 5s - loss: 4.6840e-05\n",
      "Epoch 80/100\n",
      " - 4s - loss: 4.5438e-05\n",
      "Epoch 81/100\n",
      " - 5s - loss: 4.7845e-05\n",
      "Epoch 82/100\n",
      " - 5s - loss: 4.4728e-05\n",
      "Epoch 83/100\n",
      " - 5s - loss: 4.4267e-05\n",
      "Epoch 84/100\n",
      " - 5s - loss: 4.7997e-05\n",
      "Epoch 85/100\n",
      " - 4s - loss: 4.4500e-05\n",
      "Epoch 86/100\n",
      " - 5s - loss: 4.4195e-05\n",
      "Epoch 87/100\n",
      " - 5s - loss: 4.6575e-05\n",
      "Epoch 88/100\n",
      " - 5s - loss: 4.5701e-05\n",
      "Epoch 89/100\n",
      " - 5s - loss: 4.6021e-05\n",
      "Epoch 90/100\n",
      " - 5s - loss: 4.7369e-05\n",
      "Epoch 91/100\n",
      " - 5s - loss: 4.6837e-05\n",
      "Epoch 92/100\n",
      " - 4s - loss: 4.3650e-05\n",
      "Epoch 93/100\n",
      " - 5s - loss: 4.4520e-05\n",
      "Epoch 94/100\n",
      " - 5s - loss: 4.2921e-05\n",
      "Epoch 95/100\n",
      " - 5s - loss: 4.3863e-05\n",
      "Epoch 96/100\n",
      " - 5s - loss: 4.5439e-05\n",
      "Epoch 97/100\n",
      " - 5s - loss: 4.4125e-05\n",
      "Epoch 98/100\n",
      " - 5s - loss: 4.5648e-05\n",
      "Epoch 99/100\n",
      " - 5s - loss: 4.4224e-05\n",
      "Epoch 100/100\n",
      " - 5s - loss: 4.5310e-05\n"
     ]
    },
    {
     "data": {
      "text/plain": [
       "5.5050106309411696e-05"
      ]
     },
     "execution_count": 121,
     "metadata": {},
     "output_type": "execute_result"
    }
   ],
   "source": [
    "import numpy\n",
    "import matplotlib.pyplot as plt\n",
    "from pandas import read_csv\n",
    "import math\n",
    "from keras.models import Sequential\n",
    "from keras.layers import Dense\n",
    "from keras.layers import LSTM\n",
    "from sklearn.preprocessing import MinMaxScaler\n",
    "from sklearn.metrics import mean_squared_error\n",
    "\n",
    "x_train = np.reshape(x_train, (x_train.shape[0], 1, x_train.shape[1]))\n",
    "x_test = np.reshape(x_test, (x_test.shape[0], 1, x_test.shape[1]))\n",
    "\n",
    "model = Sequential()\n",
    "model.add(LSTM(units = 6, input_dim = 5))\n",
    "model.add(Dense(1))\n",
    "model.compile(loss='mean_squared_error', optimizer='adam')\n",
    "model.fit(x_train,y_train, epochs=100, batch_size=1, verbose=2)\n",
    "testPredict = model.predict(x_test)\n",
    "\n",
    "from sklearn.metrics import mean_squared_error\n",
    "mean_squared_error(testPredict,y_test)\n"
   ]
  },
  {
   "cell_type": "code",
   "execution_count": null,
   "metadata": {},
   "outputs": [],
   "source": []
  }
 ],
 "metadata": {
  "kernelspec": {
   "display_name": "Python 3",
   "language": "python",
   "name": "python3"
  },
  "language_info": {
   "codemirror_mode": {
    "name": "ipython",
    "version": 3
   },
   "file_extension": ".py",
   "mimetype": "text/x-python",
   "name": "python",
   "nbconvert_exporter": "python",
   "pygments_lexer": "ipython3",
   "version": "3.6.8"
  }
 },
 "nbformat": 4,
 "nbformat_minor": 2
}
